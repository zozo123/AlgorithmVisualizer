{
  "nbformat": 4,
  "nbformat_minor": 0,
  "metadata": {
    "colab": {
      "name": "Copy of Corner_Detector.ipynb",
      "version": "0.3.2",
      "provenance": [],
      "collapsed_sections": [],
      "include_colab_link": true
    },
    "kernelspec": {
      "name": "python3",
      "display_name": "Python 3"
    },
    "accelerator": "GPU"
  },
  "cells": [
    {
      "cell_type": "markdown",
      "metadata": {
        "id": "view-in-github",
        "colab_type": "text"
      },
      "source": [
        "<a href=\"https://colab.research.google.com/github/zozo123/AlgorithmVisualizer/blob/dev/Corner_Detector_march_10_2019.ipynb\" target=\"_parent\"><img src=\"https://colab.research.google.com/assets/colab-badge.svg\" alt=\"Open In Colab\"/></a>"
      ]
    },
    {
      "metadata": {
        "id": "CZ3uUh0N6YjP",
        "colab_type": "code",
        "outputId": "8db74562-57c5-492c-83be-3c2b2009e2fd",
        "colab": {
          "base_uri": "https://localhost:8080/",
          "height": 991
        }
      },
      "cell_type": "code",
      "source": [
        "from keras import models, layers\n",
        "import numpy as np\n",
        "from scipy import signal\n",
        "from keras import backend as K\n",
        "\n",
        "size=100\n",
        "\n",
        "input_image = layers.Input(shape=(size, size, 1))\n",
        "\n",
        "b2 = layers.Conv2D(128, (3,3),padding='same',  activation='relu')(input_image)\n",
        "b2 = layers.MaxPooling2D((2,2))(b2)\n",
        "b2 = layers.Conv2D(64, (3,3),padding='same',  activation='relu')(b2)\n",
        "b2 = layers.MaxPooling2D((2,2))(b2)\n",
        "# TOTEST: Add some intermidated dense layers\n",
        "# b2 = layers.Dense(size)(b2)\n",
        "b2 = layers.Conv2D(32, (2,2), activation='relu',  padding='same')(b2)\n",
        "b2 = layers.MaxPooling2D((2,2))(b2)\n",
        "\n",
        "b2 = layers.Conv2D(32, (2,2), activation='relu',  padding='same')(b2)\n",
        "b2 = layers.MaxPooling2D((1,1))(b2)\n",
        "\n",
        "b2 = layers.Flatten()(b2)\n",
        "b2 = layers.Dense(25) (b2)\n",
        "b2 = layers.Reshape((5,5,1))(b2)\n",
        "b2 = layers.UpSampling2D((2,2))(b2)\n",
        "b2 = layers.Conv2D(128, (2,2), activation='relu', padding='same')(b2)\n",
        "\n",
        "b2 = layers.UpSampling2D((2,2))(b2)\n",
        "b2 = layers.Conv2D(64, (2,2), activation='relu', padding='same')(b2)\n",
        "\n",
        "b2 = layers.UpSampling2D((2,2))(b2)\n",
        "b2 = layers.Conv2D(64, (3,3), activation='relu', padding='same')(b2)\n",
        "\n",
        "# TOTEST: Try to use transposed convolution layers to up sample\n",
        "b2 = layers.UpSampling2D((2,2))(b2)\n",
        "b2 = layers.Conv2D(64, (3,3), activation='relu', padding='same')(b2)\n",
        "\n",
        "# TOTEST: Try to avoid overshotting to higher dimensions \n",
        "b2 = layers.UpSampling2D((5,5))(b2)\n",
        "b2 = layers.Conv2D(64, (3,3), activation='relu', padding='same')(b2)\n",
        "\n",
        "b2 = layers.Conv2D(128, (2,2), activation='sigmoid',  padding='same')(b2)\n",
        "b2_out = layers.MaxPooling2D((4,4))(b2)\n",
        "\n",
        "output = layers.Conv2D(1, (1,1), activation='sigmoid', padding='same')(b2_out)\n",
        "\n",
        "def custom_loss(y_true, y_predict):\n",
        "  y_predict=K.clip(y_predict, K.epsilon(), 1 - K.epsilon())\n",
        "  dom=K.tf.cast(K.tf.count_nonzero(-K.tf.multiply(y_true,K.log(y_predict))), K.tf.float32)\n",
        "  return K.tf.reduce_sum(-K.tf.multiply(y_true,K.log(y_predict)))/dom + K.tf.reduce_mean(-K.tf.multiply((1-y_true),K.log((1-y_predict))))\n",
        "\n",
        "def round_pred_nonzero(y_true, y_pred):\n",
        "    return K.tf.count_nonzero(K.tf.round(y_pred))\n",
        "\n",
        "def round_sigmoid_pred_nonzero(y_true, y_pred):\n",
        "    return K.tf.count_nonzero(K.tf.round(K.sigmoid(y_pred)))\n",
        "  \n",
        "def true_nonzero(y_true, y_pred):\n",
        "    return K.tf.count_nonzero(y_true)\n",
        "\n",
        "def term_of_zero_cross(y_true, y_pred):\n",
        "    return K.tf.count_nonzero(-K.tf.multiply(y_true,K.log(y_pred)))\n",
        "\n",
        "def term_of_one_cross(y_true, y_pred):\n",
        "    return K.tf.count_nonzero(-K.tf.multiply((1-y_true),K.log((1-y_pred))))\n",
        "\n",
        "  \n",
        "#output = layers.Dense(100, activation='sigmoid')(b2_out)\n",
        "model = models.Model(input_image, output)\n",
        "# model.compile(optimizer='adam', loss='binary_crossentropy', metrics=['accuracy'])\n",
        "model.compile(optimizer='adam', loss=custom_loss, metrics=['accuracy',round_pred_nonzero,round_sigmoid_pred_nonzero, true_nonzero, term_of_zero_cross, term_of_one_cross])\n",
        "\n",
        "model.summary()"
      ],
      "execution_count": 0,
      "outputs": [
        {
          "output_type": "stream",
          "text": [
            "Using TensorFlow backend.\n"
          ],
          "name": "stderr"
        },
        {
          "output_type": "stream",
          "text": [
            "_________________________________________________________________\n",
            "Layer (type)                 Output Shape              Param #   \n",
            "=================================================================\n",
            "input_1 (InputLayer)         (None, 100, 100, 1)       0         \n",
            "_________________________________________________________________\n",
            "conv2d_1 (Conv2D)            (None, 100, 100, 128)     1280      \n",
            "_________________________________________________________________\n",
            "max_pooling2d_1 (MaxPooling2 (None, 50, 50, 128)       0         \n",
            "_________________________________________________________________\n",
            "conv2d_2 (Conv2D)            (None, 50, 50, 64)        73792     \n",
            "_________________________________________________________________\n",
            "max_pooling2d_2 (MaxPooling2 (None, 25, 25, 64)        0         \n",
            "_________________________________________________________________\n",
            "conv2d_3 (Conv2D)            (None, 25, 25, 32)        8224      \n",
            "_________________________________________________________________\n",
            "max_pooling2d_3 (MaxPooling2 (None, 12, 12, 32)        0         \n",
            "_________________________________________________________________\n",
            "conv2d_4 (Conv2D)            (None, 12, 12, 32)        4128      \n",
            "_________________________________________________________________\n",
            "max_pooling2d_4 (MaxPooling2 (None, 12, 12, 32)        0         \n",
            "_________________________________________________________________\n",
            "flatten_1 (Flatten)          (None, 4608)              0         \n",
            "_________________________________________________________________\n",
            "dense_1 (Dense)              (None, 25)                115225    \n",
            "_________________________________________________________________\n",
            "reshape_1 (Reshape)          (None, 5, 5, 1)           0         \n",
            "_________________________________________________________________\n",
            "up_sampling2d_1 (UpSampling2 (None, 10, 10, 1)         0         \n",
            "_________________________________________________________________\n",
            "conv2d_5 (Conv2D)            (None, 10, 10, 128)       640       \n",
            "_________________________________________________________________\n",
            "up_sampling2d_2 (UpSampling2 (None, 20, 20, 128)       0         \n",
            "_________________________________________________________________\n",
            "conv2d_6 (Conv2D)            (None, 20, 20, 64)        32832     \n",
            "_________________________________________________________________\n",
            "up_sampling2d_3 (UpSampling2 (None, 40, 40, 64)        0         \n",
            "_________________________________________________________________\n",
            "conv2d_7 (Conv2D)            (None, 40, 40, 64)        36928     \n",
            "_________________________________________________________________\n",
            "up_sampling2d_4 (UpSampling2 (None, 80, 80, 64)        0         \n",
            "_________________________________________________________________\n",
            "conv2d_8 (Conv2D)            (None, 80, 80, 64)        36928     \n",
            "_________________________________________________________________\n",
            "up_sampling2d_5 (UpSampling2 (None, 400, 400, 64)      0         \n",
            "_________________________________________________________________\n",
            "conv2d_9 (Conv2D)            (None, 400, 400, 64)      36928     \n",
            "_________________________________________________________________\n",
            "conv2d_10 (Conv2D)           (None, 400, 400, 128)     32896     \n",
            "_________________________________________________________________\n",
            "max_pooling2d_5 (MaxPooling2 (None, 100, 100, 128)     0         \n",
            "_________________________________________________________________\n",
            "conv2d_11 (Conv2D)           (None, 100, 100, 1)       129       \n",
            "=================================================================\n",
            "Total params: 379,930\n",
            "Trainable params: 379,930\n",
            "Non-trainable params: 0\n",
            "_________________________________________________________________\n"
          ],
          "name": "stdout"
        }
      ]
    },
    {
      "metadata": {
        "id": "FlSiisAr3DqB",
        "colab_type": "code",
        "colab": {}
      },
      "cell_type": "code",
      "source": [
        "%matplotlib inline\n",
        "def generate_images(length):\n",
        "  label:begin\n",
        "  data   = np.zeros([length, size, size, 1])\n",
        "  labels = np.zeros([length, size, size, 1])\n",
        "  for j in range(length):\n",
        "    m=np.eye(size)\n",
        "    v=np.array([[1, 2, 3, 4, 3, 2, 1]])\n",
        "            \n",
        "    m=signal.convolve2d(m, v*v.T , 'same')\n",
        "    l=np.zeros([size,size])\n",
        "    for i in range(0,size,6):\n",
        "      if np.random.rand(1)[0] < 0.5 and i > 6 and i < 94:\n",
        "        dim = np.int(2*np.round(3*(1+np.random.rand(1)[0])))\n",
        "        k = 250.0*np.ones([dim,dim])\n",
        "        half_win=np.int(dim/2)\n",
        "        m[i-half_win:i+half_win, i-half_win:i+half_win] = k\n",
        "        corner=200*(0.5+np.random.rand(1)[0])\n",
        "        m[i-half_win,i+half_win-1] += corner\n",
        "        m[i+half_win-1,i-half_win] += corner\n",
        "        l[i-half_win,i+half_win] = 1\n",
        "        l[i+half_win,i-half_win] = 1\n",
        "    j=0\n",
        "    while True:\n",
        "      j=(j+1)%length\n",
        "      data[j,:,:,0]    = m\n",
        "      labels[j,:,:,0]  = l      \n",
        "      yield (data, labels)\n",
        "      \n",
        "%matplotlib inline\n",
        "def generate_images_other(length):\n",
        "  data   = np.zeros([length, size, size, 1])\n",
        "  labels = np.zeros([length, size, size, 1])\n",
        "  \n",
        "  while True:\n",
        "    for j in range(length):\n",
        "      m=np.eye(size)\n",
        "      v=np.array([[1, 2, 3, 4, 3, 2, 1]])\n",
        "            \n",
        "      m=signal.convolve2d(m, v*v.T , 'same')\n",
        "      l=np.zeros([size,size])\n",
        "      for i in range(0,size,6):\n",
        "        if np.random.rand(1)[0] < 0.5 and i > 6 and i < 94:\n",
        "          dim = np.int(2*np.round(3*(1+np.random.rand(1)[0])))\n",
        "          k = 250.0*np.ones([dim,dim])\n",
        "          half_win=np.int(dim/2)\n",
        "          m[i-half_win:i+half_win, i-half_win:i+half_win] = k\n",
        "          corner=200*(0.5+np.random.rand(1)[0])\n",
        "          m[i-half_win,i+half_win-1] += corner\n",
        "          m[i+half_win-1,i-half_win] += corner\n",
        "          l[i-half_win,i+half_win] = 1\n",
        "          l[i+half_win,i-half_win] = 1\n",
        "\n",
        "      data[j,:,:,0]    = m\n",
        "      labels[j,:,:,0]  = l\n",
        "      yield (data, labels)"
      ],
      "execution_count": 0,
      "outputs": []
    },
    {
      "metadata": {
        "id": "EGMWutnC6Z4L",
        "colab_type": "code",
        "outputId": "08712cc8-2e3c-46fd-89fe-d3a261ab8c41",
        "colab": {
          "base_uri": "https://localhost:8080/",
          "height": 390
        }
      },
      "cell_type": "code",
      "source": [
        "# using other\n",
        "model.fit_generator(generate_images_other(16), steps_per_epoch=100, epochs=10, use_multiprocessing=True)"
      ],
      "execution_count": 0,
      "outputs": [
        {
          "output_type": "stream",
          "text": [
            "Epoch 1/10\n",
            "100/100 [==============================] - 102s 1s/step - loss: 0.5437 - acc: 0.8486 - round_pred_nonzero: 24422.7700 - round_sigmoid_pred_nonzero: 160000.0000 - true_nonzero: 204.8200 - term_of_zero_cross: 204.8200 - term_of_one_cross: 159795.1800\n",
            "Epoch 2/10\n",
            "100/100 [==============================] - 96s 960ms/step - loss: 0.1721 - acc: 0.9586 - round_pred_nonzero: 6839.6000 - round_sigmoid_pred_nonzero: 160000.0000 - true_nonzero: 220.7200 - term_of_zero_cross: 220.7200 - term_of_one_cross: 159779.2800\n",
            "Epoch 3/10\n",
            "100/100 [==============================] - 96s 960ms/step - loss: 0.1639 - acc: 0.9625 - round_pred_nonzero: 6220.1700 - round_sigmoid_pred_nonzero: 160000.0000 - true_nonzero: 219.0400 - term_of_zero_cross: 219.0400 - term_of_one_cross: 159780.9600\n",
            "Epoch 4/10\n",
            "100/100 [==============================] - 96s 958ms/step - loss: 0.0934 - acc: 0.9805 - round_pred_nonzero: 3349.2800 - round_sigmoid_pred_nonzero: 160000.0000 - true_nonzero: 225.1000 - term_of_zero_cross: 225.1000 - term_of_one_cross: 159774.9000\n",
            "Epoch 5/10\n",
            "100/100 [==============================] - 96s 956ms/step - loss: 0.0774 - acc: 0.9853 - round_pred_nonzero: 2567.1900 - round_sigmoid_pred_nonzero: 160000.0000 - true_nonzero: 215.8200 - term_of_zero_cross: 215.8200 - term_of_one_cross: 159784.1800\n",
            "Epoch 6/10\n",
            "100/100 [==============================] - 96s 956ms/step - loss: 0.0703 - acc: 0.9868 - round_pred_nonzero: 2334.1500 - round_sigmoid_pred_nonzero: 160000.0000 - true_nonzero: 227.8400 - term_of_zero_cross: 227.8400 - term_of_one_cross: 159772.1600\n",
            "Epoch 7/10\n",
            "100/100 [==============================] - 96s 956ms/step - loss: 0.0716 - acc: 0.9865 - round_pred_nonzero: 2380.0300 - round_sigmoid_pred_nonzero: 160000.0000 - true_nonzero: 221.2800 - term_of_zero_cross: 221.2800 - term_of_one_cross: 159778.7200\n",
            "Epoch 8/10\n",
            "100/100 [==============================] - 95s 953ms/step - loss: 0.0616 - acc: 0.9892 - round_pred_nonzero: 1935.5100 - round_sigmoid_pred_nonzero: 160000.0000 - true_nonzero: 214.5600 - term_of_zero_cross: 214.5600 - term_of_one_cross: 159785.4400\n",
            "Epoch 9/10\n",
            "100/100 [==============================] - 95s 952ms/step - loss: 0.0578 - acc: 0.9901 - round_pred_nonzero: 1796.0700 - round_sigmoid_pred_nonzero: 160000.0000 - true_nonzero: 220.2600 - term_of_zero_cross: 220.2600 - term_of_one_cross: 159779.7400\n",
            "Epoch 10/10\n",
            "100/100 [==============================] - 95s 951ms/step - loss: 0.0570 - acc: 0.9897 - round_pred_nonzero: 1870.7800 - round_sigmoid_pred_nonzero: 160000.0000 - true_nonzero: 223.7800 - term_of_zero_cross: 223.7800 - term_of_one_cross: 159776.2200\n"
          ],
          "name": "stdout"
        },
        {
          "output_type": "execute_result",
          "data": {
            "text/plain": [
              "<keras.callbacks.History at 0x7f20f5ee6358>"
            ]
          },
          "metadata": {
            "tags": []
          },
          "execution_count": 3
        }
      ]
    },
    {
      "metadata": {
        "id": "J6QvcL_pFsyA",
        "colab_type": "text"
      },
      "cell_type": "markdown",
      "source": [
        ""
      ]
    },
    {
      "metadata": {
        "id": "6lz9wvlOxynz",
        "colab_type": "code",
        "colab": {}
      },
      "cell_type": "code",
      "source": [
        ""
      ],
      "execution_count": 0,
      "outputs": []
    },
    {
      "metadata": {
        "id": "Mm5xii3361ww",
        "colab_type": "code",
        "outputId": "b4dda32d-65e9-4fbb-f58f-52affd12aac1",
        "colab": {
          "base_uri": "https://localhost:8080/",
          "height": 918
        }
      },
      "cell_type": "code",
      "source": [
        "from matplotlib import pyplot as plt\n",
        "from scipy.special import expit as sigmoid\n",
        "for image, labels  in generate_images(1):\n",
        "  predicted = model.predict(image)\n",
        "  print(np.count_nonzero(labels), np.count_nonzero(predicted))\n",
        "  print(image.shape)\n",
        "  plt.figure()\n",
        "  plt.imshow(image[0,:,:,0], cmap='Blues',aspect='equal')\n",
        "  ax = plt.gca();\n",
        "  ax.set_xticks(np.arange(0, 101, 1));\n",
        "  ax.set_yticks(np.arange(0, 101, 1));\n",
        "  ax.set_xticklabels([]);\n",
        "  ax.set_yticklabels([]); \n",
        "  ax.grid(which='major', color='w', linestyle='-', linewidth=1)\n",
        "\n",
        "  plt.figure()\n",
        "  plt.imshow(predicted[0,:,:,0]>0.991, cmap='Blues')\n",
        "  plt.figure()\n",
        "  plt.imshow(labels[0,:,:,0]==1, cmap='Blues')\n",
        "  print(np.count_nonzero(labels[0,:,:,0]),np.count_nonzero(predicted[0,:,:,0]>0.99))\n",
        "  print(np.round(predicted[0,:,:,0]))\n",
        "  plt.figure()\n",
        "  plt.hist(predicted[0,:,:,0].flatten(), normed=True, bins=30)\n",
        "  plt.ylabel('Probability');\n",
        "  break\n"
      ],
      "execution_count": 0,
      "outputs": [
        {
          "output_type": "stream",
          "text": [
            "10 10000\n",
            "(1, 100, 100, 1)\n",
            "10 46\n",
            "[[0. 0. 0. ... 0. 0. 0.]\n",
            " [0. 0. 0. ... 0. 0. 0.]\n",
            " [0. 0. 0. ... 0. 0. 0.]\n",
            " ...\n",
            " [0. 0. 0. ... 0. 0. 0.]\n",
            " [0. 0. 0. ... 0. 0. 0.]\n",
            " [0. 0. 0. ... 0. 0. 0.]]\n"
          ],
          "name": "stdout"
        },
        {
          "output_type": "display_data",
          "data": {
            "image/png": "[encoded data removed]",
            "text/plain": [
              "<matplotlib.figure.Figure at 0x7f851b4f6588>"
            ]
          },
          "metadata": {
            "tags": []
          }
        },
        {
          "output_type": "display_data",
          "data": {
            "image/png": "[encoded data removed]",
            "text/plain": [
              "<matplotlib.figure.Figure at 0x7f851b4a8160>"
            ]
          },
          "metadata": {
            "tags": []
          }
        },
        {
          "output_type": "display_data",
          "data": {
            "image/png": "[encoded data removed]",
            "text/plain": [
              "<matplotlib.figure.Figure at 0x7f851b424588>"
            ]
          },
          "metadata": {
            "tags": []
          }
        }
      ]
    },
    {
      "metadata": {
        "id": "w_q5EyU70mSi",
        "colab_type": "code",
        "outputId": "0ea854fb-b19e-43d2-bed7-dc2e6607ade1",
        "colab": {
          "base_uri": "https://localhost:8080/",
          "height": 252
        }
      },
      "cell_type": "code",
      "source": [
        "!pip3 install pydotplus\n",
        "!pip3 install pydot\n",
        "!apt-get -qq install -y graphviz && pip3 install -q pydot\n",
        "!pip3 install pydot-ng\n",
        "!pip3 install graphviz\n",
        "!apt-get install python-pydot python-pydot-ng graphviz \n",
        "\n",
        "import pydot\n",
        "\n",
        "from keras.utils import plot_model\n",
        "plot_model(model)"
      ],
      "execution_count": 0,
      "outputs": [
        {
          "output_type": "stream",
          "text": [
            "Requirement already satisfied: pydotplus in /usr/local/lib/python3.6/dist-packages (2.0.2)\n",
            "Requirement already satisfied: pyparsing>=2.0.1 in /usr/local/lib/python3.6/dist-packages (from pydotplus) (2.2.2)\n",
            "Requirement already satisfied: pydot in /usr/local/lib/python3.6/dist-packages (1.2.4)\n",
            "Requirement already satisfied: pyparsing>=2.1.4 in /usr/local/lib/python3.6/dist-packages (from pydot) (2.2.2)\n",
            "Requirement already satisfied: pydot-ng in /usr/local/lib/python3.6/dist-packages (1.0.0)\n",
            "Requirement already satisfied: pyparsing>=2.0.1 in /usr/local/lib/python3.6/dist-packages (from pydot-ng) (2.2.2)\n",
            "Requirement already satisfied: graphviz in /usr/local/lib/python3.6/dist-packages (0.9)\n",
            "Reading package lists... Done\n",
            "Building dependency tree       \n",
            "Reading state information... Done\n",
            "graphviz is already the newest version (2.40.1-2).\n",
            "python-pydot is already the newest version (1.2.3-1).\n",
            "python-pydot-ng is already the newest version (1.0.0-3).\n",
            "0 upgraded, 0 newly installed, 0 to remove and 4 not upgraded.\n"
          ],
          "name": "stdout"
        }
      ]
    },
    {
      "metadata": {
        "id": "-sxx-glg7szA",
        "colab_type": "code",
        "outputId": "f3d84831-a2c7-4253-faba-39ace66c13de",
        "colab": {
          "base_uri": "https://localhost:8080/",
          "height": 2750
        }
      },
      "cell_type": "code",
      "source": [
        "\n",
        "from IPython.display import SVG\n",
        "from keras.utils.vis_utils import model_to_dot\n",
        "\n",
        "SVG(model_to_dot(model, show_shapes=True).create(prog='dot', format='svg'))"
      ],
      "execution_count": 0,
      "outputs": [
        {
          "output_type": "execute_result",
          "data": {
            "text/plain": [
              "<IPython.core.display.SVG object>"
            ],
            "image/svg+xml": "<svg height=\"2047pt\" viewBox=\"0.00 0.00 442.00 2047.00\" width=\"442pt\" xmlns=\"http://www.w3.org/2000/svg\" xmlns:xlink=\"http://www.w3.org/1999/xlink\">\n<g class=\"graph\" id=\"graph0\" transform=\"scale(1 1) rotate(0) translate(4 2043)\">\n<title>G</title>\n<polygon fill=\"#ffffff\" points=\"-4,4 -4,-2043 438,-2043 438,4 -4,4\" stroke=\"transparent\"/>\n<!-- 140210013598160 -->\n<g class=\"node\" id=\"node1\">\n<title>140210013598160</title>\n<polygon fill=\"none\" points=\"55.5,-1992.5 55.5,-2038.5 378.5,-2038.5 378.5,-1992.5 55.5,-1992.5\" stroke=\"#000000\"/>\n<text fill=\"#000000\" font-family=\"Times,serif\" font-size=\"14.00\" text-anchor=\"middle\" x=\"122\" y=\"-2011.8\">input_2: InputLayer</text>\n<polyline fill=\"none\" points=\"188.5,-1992.5 188.5,-2038.5 \" stroke=\"#000000\"/>\n<text fill=\"#000000\" font-family=\"Times,serif\" font-size=\"14.00\" text-anchor=\"middle\" x=\"217.5\" y=\"-2023.3\">input:</text>\n<polyline fill=\"none\" points=\"188.5,-2015.5 246.5,-2015.5 \" stroke=\"#000000\"/>\n<text fill=\"#000000\" font-family=\"Times,serif\" font-size=\"14.00\" text-anchor=\"middle\" x=\"217.5\" y=\"-2000.3\">output:</text>\n<polyline fill=\"none\" points=\"246.5,-1992.5 246.5,-2038.5 \" stroke=\"#000000\"/>\n<text fill=\"#000000\" font-family=\"Times,serif\" font-size=\"14.00\" text-anchor=\"middle\" x=\"312.5\" y=\"-2023.3\">(None, 100, 100, 1)</text>\n<polyline fill=\"none\" points=\"246.5,-2015.5 378.5,-2015.5 \" stroke=\"#000000\"/>\n<text fill=\"#000000\" font-family=\"Times,serif\" font-size=\"14.00\" text-anchor=\"middle\" x=\"312.5\" y=\"-2000.3\">(None, 100, 100, 1)</text>\n</g>\n<!-- 140210013598216 -->\n<g class=\"node\" id=\"node2\">\n<title>140210013598216</title>\n<polygon fill=\"none\" points=\"44.5,-1909.5 44.5,-1955.5 389.5,-1955.5 389.5,-1909.5 44.5,-1909.5\" stroke=\"#000000\"/>\n<text fill=\"#000000\" font-family=\"Times,serif\" font-size=\"14.00\" text-anchor=\"middle\" x=\"114.5\" y=\"-1928.8\">conv2d_12: Conv2D</text>\n<polyline fill=\"none\" points=\"184.5,-1909.5 184.5,-1955.5 \" stroke=\"#000000\"/>\n<text fill=\"#000000\" font-family=\"Times,serif\" font-size=\"14.00\" text-anchor=\"middle\" x=\"213.5\" y=\"-1940.3\">input:</text>\n<polyline fill=\"none\" points=\"184.5,-1932.5 242.5,-1932.5 \" stroke=\"#000000\"/>\n<text fill=\"#000000\" font-family=\"Times,serif\" font-size=\"14.00\" text-anchor=\"middle\" x=\"213.5\" y=\"-1917.3\">output:</text>\n<polyline fill=\"none\" points=\"242.5,-1909.5 242.5,-1955.5 \" stroke=\"#000000\"/>\n<text fill=\"#000000\" font-family=\"Times,serif\" font-size=\"14.00\" text-anchor=\"middle\" x=\"316\" y=\"-1940.3\">(None, 100, 100, 1)</text>\n<polyline fill=\"none\" points=\"242.5,-1932.5 389.5,-1932.5 \" stroke=\"#000000\"/>\n<text fill=\"#000000\" font-family=\"Times,serif\" font-size=\"14.00\" text-anchor=\"middle\" x=\"316\" y=\"-1917.3\">(None, 100, 100, 128)</text>\n</g>\n<!-- 140210013598160&#45;&gt;140210013598216 -->\n<g class=\"edge\" id=\"edge1\">\n<title>140210013598160-&gt;140210013598216</title>\n<path d=\"M217,-1992.3799C217,-1984.1745 217,-1974.7679 217,-1965.8786\" fill=\"none\" stroke=\"#000000\"/>\n<polygon fill=\"#000000\" points=\"220.5001,-1965.784 217,-1955.784 213.5001,-1965.784 220.5001,-1965.784\" stroke=\"#000000\"/>\n</g>\n<!-- 140210013599112 -->\n<g class=\"node\" id=\"node3\">\n<title>140210013599112</title>\n<polygon fill=\"none\" points=\"4,-1826.5 4,-1872.5 430,-1872.5 430,-1826.5 4,-1826.5\" stroke=\"#000000\"/>\n<text fill=\"#000000\" font-family=\"Times,serif\" font-size=\"14.00\" text-anchor=\"middle\" x=\"114.5\" y=\"-1845.8\">max_pooling2d_6: MaxPooling2D</text>\n<polyline fill=\"none\" points=\"225,-1826.5 225,-1872.5 \" stroke=\"#000000\"/>\n<text fill=\"#000000\" font-family=\"Times,serif\" font-size=\"14.00\" text-anchor=\"middle\" x=\"254\" y=\"-1857.3\">input:</text>\n<polyline fill=\"none\" points=\"225,-1849.5 283,-1849.5 \" stroke=\"#000000\"/>\n<text fill=\"#000000\" font-family=\"Times,serif\" font-size=\"14.00\" text-anchor=\"middle\" x=\"254\" y=\"-1834.3\">output:</text>\n<polyline fill=\"none\" points=\"283,-1826.5 283,-1872.5 \" stroke=\"#000000\"/>\n<text fill=\"#000000\" font-family=\"Times,serif\" font-size=\"14.00\" text-anchor=\"middle\" x=\"356.5\" y=\"-1857.3\">(None, 100, 100, 128)</text>\n<polyline fill=\"none\" points=\"283,-1849.5 430,-1849.5 \" stroke=\"#000000\"/>\n<text fill=\"#000000\" font-family=\"Times,serif\" font-size=\"14.00\" text-anchor=\"middle\" x=\"356.5\" y=\"-1834.3\">(None, 50, 50, 128)</text>\n</g>\n<!-- 140210013598216&#45;&gt;140210013599112 -->\n<g class=\"edge\" id=\"edge2\">\n<title>140210013598216-&gt;140210013599112</title>\n<path d=\"M217,-1909.3799C217,-1901.1745 217,-1891.7679 217,-1882.8786\" fill=\"none\" stroke=\"#000000\"/>\n<polygon fill=\"#000000\" points=\"220.5001,-1882.784 217,-1872.784 213.5001,-1882.784 220.5001,-1882.784\" stroke=\"#000000\"/>\n</g>\n<!-- 140210013598776 -->\n<g class=\"node\" id=\"node4\">\n<title>140210013598776</title>\n<polygon fill=\"none\" points=\"52,-1743.5 52,-1789.5 382,-1789.5 382,-1743.5 52,-1743.5\" stroke=\"#000000\"/>\n<text fill=\"#000000\" font-family=\"Times,serif\" font-size=\"14.00\" text-anchor=\"middle\" x=\"122\" y=\"-1762.8\">conv2d_13: Conv2D</text>\n<polyline fill=\"none\" points=\"192,-1743.5 192,-1789.5 \" stroke=\"#000000\"/>\n<text fill=\"#000000\" font-family=\"Times,serif\" font-size=\"14.00\" text-anchor=\"middle\" x=\"221\" y=\"-1774.3\">input:</text>\n<polyline fill=\"none\" points=\"192,-1766.5 250,-1766.5 \" stroke=\"#000000\"/>\n<text fill=\"#000000\" font-family=\"Times,serif\" font-size=\"14.00\" text-anchor=\"middle\" x=\"221\" y=\"-1751.3\">output:</text>\n<polyline fill=\"none\" points=\"250,-1743.5 250,-1789.5 \" stroke=\"#000000\"/>\n<text fill=\"#000000\" font-family=\"Times,serif\" font-size=\"14.00\" text-anchor=\"middle\" x=\"316\" y=\"-1774.3\">(None, 50, 50, 128)</text>\n<polyline fill=\"none\" points=\"250,-1766.5 382,-1766.5 \" stroke=\"#000000\"/>\n<text fill=\"#000000\" font-family=\"Times,serif\" font-size=\"14.00\" text-anchor=\"middle\" x=\"316\" y=\"-1751.3\">(None, 50, 50, 64)</text>\n</g>\n<!-- 140210013599112&#45;&gt;140210013598776 -->\n<g class=\"edge\" id=\"edge3\">\n<title>140210013599112-&gt;140210013598776</title>\n<path d=\"M217,-1826.3799C217,-1818.1745 217,-1808.7679 217,-1799.8786\" fill=\"none\" stroke=\"#000000\"/>\n<polygon fill=\"#000000\" points=\"220.5001,-1799.784 217,-1789.784 213.5001,-1799.784 220.5001,-1799.784\" stroke=\"#000000\"/>\n</g>\n<!-- 140210013598720 -->\n<g class=\"node\" id=\"node5\">\n<title>140210013598720</title>\n<polygon fill=\"none\" points=\"15,-1660.5 15,-1706.5 419,-1706.5 419,-1660.5 15,-1660.5\" stroke=\"#000000\"/>\n<text fill=\"#000000\" font-family=\"Times,serif\" font-size=\"14.00\" text-anchor=\"middle\" x=\"125.5\" y=\"-1679.8\">max_pooling2d_7: MaxPooling2D</text>\n<polyline fill=\"none\" points=\"236,-1660.5 236,-1706.5 \" stroke=\"#000000\"/>\n<text fill=\"#000000\" font-family=\"Times,serif\" font-size=\"14.00\" text-anchor=\"middle\" x=\"265\" y=\"-1691.3\">input:</text>\n<polyline fill=\"none\" points=\"236,-1683.5 294,-1683.5 \" stroke=\"#000000\"/>\n<text fill=\"#000000\" font-family=\"Times,serif\" font-size=\"14.00\" text-anchor=\"middle\" x=\"265\" y=\"-1668.3\">output:</text>\n<polyline fill=\"none\" points=\"294,-1660.5 294,-1706.5 \" stroke=\"#000000\"/>\n<text fill=\"#000000\" font-family=\"Times,serif\" font-size=\"14.00\" text-anchor=\"middle\" x=\"356.5\" y=\"-1691.3\">(None, 50, 50, 64)</text>\n<polyline fill=\"none\" points=\"294,-1683.5 419,-1683.5 \" stroke=\"#000000\"/>\n<text fill=\"#000000\" font-family=\"Times,serif\" font-size=\"14.00\" text-anchor=\"middle\" x=\"356.5\" y=\"-1668.3\">(None, 25, 25, 64)</text>\n</g>\n<!-- 140210013598776&#45;&gt;140210013598720 -->\n<g class=\"edge\" id=\"edge4\">\n<title>140210013598776-&gt;140210013598720</title>\n<path d=\"M217,-1743.3799C217,-1735.1745 217,-1725.7679 217,-1716.8786\" fill=\"none\" stroke=\"#000000\"/>\n<polygon fill=\"#000000\" points=\"220.5001,-1716.784 217,-1706.784 213.5001,-1716.784 220.5001,-1716.784\" stroke=\"#000000\"/>\n</g>\n<!-- 140210013498504 -->\n<g class=\"node\" id=\"node6\">\n<title>140210013498504</title>\n<polygon fill=\"none\" points=\"55.5,-1577.5 55.5,-1623.5 378.5,-1623.5 378.5,-1577.5 55.5,-1577.5\" stroke=\"#000000\"/>\n<text fill=\"#000000\" font-family=\"Times,serif\" font-size=\"14.00\" text-anchor=\"middle\" x=\"125.5\" y=\"-1596.8\">conv2d_14: Conv2D</text>\n<polyline fill=\"none\" points=\"195.5,-1577.5 195.5,-1623.5 \" stroke=\"#000000\"/>\n<text fill=\"#000000\" font-family=\"Times,serif\" font-size=\"14.00\" text-anchor=\"middle\" x=\"224.5\" y=\"-1608.3\">input:</text>\n<polyline fill=\"none\" points=\"195.5,-1600.5 253.5,-1600.5 \" stroke=\"#000000\"/>\n<text fill=\"#000000\" font-family=\"Times,serif\" font-size=\"14.00\" text-anchor=\"middle\" x=\"224.5\" y=\"-1585.3\">output:</text>\n<polyline fill=\"none\" points=\"253.5,-1577.5 253.5,-1623.5 \" stroke=\"#000000\"/>\n<text fill=\"#000000\" font-family=\"Times,serif\" font-size=\"14.00\" text-anchor=\"middle\" x=\"316\" y=\"-1608.3\">(None, 25, 25, 64)</text>\n<polyline fill=\"none\" points=\"253.5,-1600.5 378.5,-1600.5 \" stroke=\"#000000\"/>\n<text fill=\"#000000\" font-family=\"Times,serif\" font-size=\"14.00\" text-anchor=\"middle\" x=\"316\" y=\"-1585.3\">(None, 25, 25, 32)</text>\n</g>\n<!-- 140210013598720&#45;&gt;140210013498504 -->\n<g class=\"edge\" id=\"edge5\">\n<title>140210013598720-&gt;140210013498504</title>\n<path d=\"M217,-1660.3799C217,-1652.1745 217,-1642.7679 217,-1633.8786\" fill=\"none\" stroke=\"#000000\"/>\n<polygon fill=\"#000000\" points=\"220.5001,-1633.784 217,-1623.784 213.5001,-1633.784 220.5001,-1633.784\" stroke=\"#000000\"/>\n</g>\n<!-- 140210013498336 -->\n<g class=\"node\" id=\"node7\">\n<title>140210013498336</title>\n<polygon fill=\"none\" points=\"15,-1494.5 15,-1540.5 419,-1540.5 419,-1494.5 15,-1494.5\" stroke=\"#000000\"/>\n<text fill=\"#000000\" font-family=\"Times,serif\" font-size=\"14.00\" text-anchor=\"middle\" x=\"125.5\" y=\"-1513.8\">max_pooling2d_8: MaxPooling2D</text>\n<polyline fill=\"none\" points=\"236,-1494.5 236,-1540.5 \" stroke=\"#000000\"/>\n<text fill=\"#000000\" font-family=\"Times,serif\" font-size=\"14.00\" text-anchor=\"middle\" x=\"265\" y=\"-1525.3\">input:</text>\n<polyline fill=\"none\" points=\"236,-1517.5 294,-1517.5 \" stroke=\"#000000\"/>\n<text fill=\"#000000\" font-family=\"Times,serif\" font-size=\"14.00\" text-anchor=\"middle\" x=\"265\" y=\"-1502.3\">output:</text>\n<polyline fill=\"none\" points=\"294,-1494.5 294,-1540.5 \" stroke=\"#000000\"/>\n<text fill=\"#000000\" font-family=\"Times,serif\" font-size=\"14.00\" text-anchor=\"middle\" x=\"356.5\" y=\"-1525.3\">(None, 25, 25, 32)</text>\n<polyline fill=\"none\" points=\"294,-1517.5 419,-1517.5 \" stroke=\"#000000\"/>\n<text fill=\"#000000\" font-family=\"Times,serif\" font-size=\"14.00\" text-anchor=\"middle\" x=\"356.5\" y=\"-1502.3\">(None, 12, 12, 32)</text>\n</g>\n<!-- 140210013498504&#45;&gt;140210013498336 -->\n<g class=\"edge\" id=\"edge6\">\n<title>140210013498504-&gt;140210013498336</title>\n<path d=\"M217,-1577.3799C217,-1569.1745 217,-1559.7679 217,-1550.8786\" fill=\"none\" stroke=\"#000000\"/>\n<polygon fill=\"#000000\" points=\"220.5001,-1550.784 217,-1540.784 213.5001,-1550.784 220.5001,-1550.784\" stroke=\"#000000\"/>\n</g>\n<!-- 140210013491096 -->\n<g class=\"node\" id=\"node8\">\n<title>140210013491096</title>\n<polygon fill=\"none\" points=\"55.5,-1411.5 55.5,-1457.5 378.5,-1457.5 378.5,-1411.5 55.5,-1411.5\" stroke=\"#000000\"/>\n<text fill=\"#000000\" font-family=\"Times,serif\" font-size=\"14.00\" text-anchor=\"middle\" x=\"125.5\" y=\"-1430.8\">conv2d_15: Conv2D</text>\n<polyline fill=\"none\" points=\"195.5,-1411.5 195.5,-1457.5 \" stroke=\"#000000\"/>\n<text fill=\"#000000\" font-family=\"Times,serif\" font-size=\"14.00\" text-anchor=\"middle\" x=\"224.5\" y=\"-1442.3\">input:</text>\n<polyline fill=\"none\" points=\"195.5,-1434.5 253.5,-1434.5 \" stroke=\"#000000\"/>\n<text fill=\"#000000\" font-family=\"Times,serif\" font-size=\"14.00\" text-anchor=\"middle\" x=\"224.5\" y=\"-1419.3\">output:</text>\n<polyline fill=\"none\" points=\"253.5,-1411.5 253.5,-1457.5 \" stroke=\"#000000\"/>\n<text fill=\"#000000\" font-family=\"Times,serif\" font-size=\"14.00\" text-anchor=\"middle\" x=\"316\" y=\"-1442.3\">(None, 12, 12, 32)</text>\n<polyline fill=\"none\" points=\"253.5,-1434.5 378.5,-1434.5 \" stroke=\"#000000\"/>\n<text fill=\"#000000\" font-family=\"Times,serif\" font-size=\"14.00\" text-anchor=\"middle\" x=\"316\" y=\"-1419.3\">(None, 12, 12, 32)</text>\n</g>\n<!-- 140210013498336&#45;&gt;140210013491096 -->\n<g class=\"edge\" id=\"edge7\">\n<title>140210013498336-&gt;140210013491096</title>\n<path d=\"M217,-1494.3799C217,-1486.1745 217,-1476.7679 217,-1467.8786\" fill=\"none\" stroke=\"#000000\"/>\n<polygon fill=\"#000000\" points=\"220.5001,-1467.784 217,-1457.784 213.5001,-1467.784 220.5001,-1467.784\" stroke=\"#000000\"/>\n</g>\n<!-- 140210013214088 -->\n<g class=\"node\" id=\"node9\">\n<title>140210013214088</title>\n<polygon fill=\"none\" points=\"15,-1328.5 15,-1374.5 419,-1374.5 419,-1328.5 15,-1328.5\" stroke=\"#000000\"/>\n<text fill=\"#000000\" font-family=\"Times,serif\" font-size=\"14.00\" text-anchor=\"middle\" x=\"125.5\" y=\"-1347.8\">max_pooling2d_9: MaxPooling2D</text>\n<polyline fill=\"none\" points=\"236,-1328.5 236,-1374.5 \" stroke=\"#000000\"/>\n<text fill=\"#000000\" font-family=\"Times,serif\" font-size=\"14.00\" text-anchor=\"middle\" x=\"265\" y=\"-1359.3\">input:</text>\n<polyline fill=\"none\" points=\"236,-1351.5 294,-1351.5 \" stroke=\"#000000\"/>\n<text fill=\"#000000\" font-family=\"Times,serif\" font-size=\"14.00\" text-anchor=\"middle\" x=\"265\" y=\"-1336.3\">output:</text>\n<polyline fill=\"none\" points=\"294,-1328.5 294,-1374.5 \" stroke=\"#000000\"/>\n<text fill=\"#000000\" font-family=\"Times,serif\" font-size=\"14.00\" text-anchor=\"middle\" x=\"356.5\" y=\"-1359.3\">(None, 12, 12, 32)</text>\n<polyline fill=\"none\" points=\"294,-1351.5 419,-1351.5 \" stroke=\"#000000\"/>\n<text fill=\"#000000\" font-family=\"Times,serif\" font-size=\"14.00\" text-anchor=\"middle\" x=\"356.5\" y=\"-1336.3\">(None, 12, 12, 32)</text>\n</g>\n<!-- 140210013491096&#45;&gt;140210013214088 -->\n<g class=\"edge\" id=\"edge8\">\n<title>140210013491096-&gt;140210013214088</title>\n<path d=\"M217,-1411.3799C217,-1403.1745 217,-1393.7679 217,-1384.8786\" fill=\"none\" stroke=\"#000000\"/>\n<polygon fill=\"#000000\" points=\"220.5001,-1384.784 217,-1374.784 213.5001,-1384.784 220.5001,-1384.784\" stroke=\"#000000\"/>\n</g>\n<!-- 140210013301280 -->\n<g class=\"node\" id=\"node10\">\n<title>140210013301280</title>\n<polygon fill=\"none\" points=\"69,-1245.5 69,-1291.5 365,-1291.5 365,-1245.5 69,-1245.5\" stroke=\"#000000\"/>\n<text fill=\"#000000\" font-family=\"Times,serif\" font-size=\"14.00\" text-anchor=\"middle\" x=\"125.5\" y=\"-1264.8\">flatten_2: Flatten</text>\n<polyline fill=\"none\" points=\"182,-1245.5 182,-1291.5 \" stroke=\"#000000\"/>\n<text fill=\"#000000\" font-family=\"Times,serif\" font-size=\"14.00\" text-anchor=\"middle\" x=\"211\" y=\"-1276.3\">input:</text>\n<polyline fill=\"none\" points=\"182,-1268.5 240,-1268.5 \" stroke=\"#000000\"/>\n<text fill=\"#000000\" font-family=\"Times,serif\" font-size=\"14.00\" text-anchor=\"middle\" x=\"211\" y=\"-1253.3\">output:</text>\n<polyline fill=\"none\" points=\"240,-1245.5 240,-1291.5 \" stroke=\"#000000\"/>\n<text fill=\"#000000\" font-family=\"Times,serif\" font-size=\"14.00\" text-anchor=\"middle\" x=\"302.5\" y=\"-1276.3\">(None, 12, 12, 32)</text>\n<polyline fill=\"none\" points=\"240,-1268.5 365,-1268.5 \" stroke=\"#000000\"/>\n<text fill=\"#000000\" font-family=\"Times,serif\" font-size=\"14.00\" text-anchor=\"middle\" x=\"302.5\" y=\"-1253.3\">(None, 4608)</text>\n</g>\n<!-- 140210013214088&#45;&gt;140210013301280 -->\n<g class=\"edge\" id=\"edge9\">\n<title>140210013214088-&gt;140210013301280</title>\n<path d=\"M217,-1328.3799C217,-1320.1745 217,-1310.7679 217,-1301.8786\" fill=\"none\" stroke=\"#000000\"/>\n<polygon fill=\"#000000\" points=\"220.5001,-1301.784 217,-1291.784 213.5001,-1301.784 220.5001,-1301.784\" stroke=\"#000000\"/>\n</g>\n<!-- 140210013301896 -->\n<g class=\"node\" id=\"node11\">\n<title>140210013301896</title>\n<polygon fill=\"none\" points=\"87,-1162.5 87,-1208.5 347,-1208.5 347,-1162.5 87,-1162.5\" stroke=\"#000000\"/>\n<text fill=\"#000000\" font-family=\"Times,serif\" font-size=\"14.00\" text-anchor=\"middle\" x=\"140.5\" y=\"-1181.8\">dense_2: Dense</text>\n<polyline fill=\"none\" points=\"194,-1162.5 194,-1208.5 \" stroke=\"#000000\"/>\n<text fill=\"#000000\" font-family=\"Times,serif\" font-size=\"14.00\" text-anchor=\"middle\" x=\"223\" y=\"-1193.3\">input:</text>\n<polyline fill=\"none\" points=\"194,-1185.5 252,-1185.5 \" stroke=\"#000000\"/>\n<text fill=\"#000000\" font-family=\"Times,serif\" font-size=\"14.00\" text-anchor=\"middle\" x=\"223\" y=\"-1170.3\">output:</text>\n<polyline fill=\"none\" points=\"252,-1162.5 252,-1208.5 \" stroke=\"#000000\"/>\n<text fill=\"#000000\" font-family=\"Times,serif\" font-size=\"14.00\" text-anchor=\"middle\" x=\"299.5\" y=\"-1193.3\">(None, 4608)</text>\n<polyline fill=\"none\" points=\"252,-1185.5 347,-1185.5 \" stroke=\"#000000\"/>\n<text fill=\"#000000\" font-family=\"Times,serif\" font-size=\"14.00\" text-anchor=\"middle\" x=\"299.5\" y=\"-1170.3\">(None, 25)</text>\n</g>\n<!-- 140210013301280&#45;&gt;140210013301896 -->\n<g class=\"edge\" id=\"edge10\">\n<title>140210013301280-&gt;140210013301896</title>\n<path d=\"M217,-1245.3799C217,-1237.1745 217,-1227.7679 217,-1218.8786\" fill=\"none\" stroke=\"#000000\"/>\n<polygon fill=\"#000000\" points=\"220.5001,-1218.784 217,-1208.784 213.5001,-1218.784 220.5001,-1218.784\" stroke=\"#000000\"/>\n</g>\n<!-- 140210012896896 -->\n<g class=\"node\" id=\"node12\">\n<title>140210012896896</title>\n<polygon fill=\"none\" points=\"72,-1079.5 72,-1125.5 362,-1125.5 362,-1079.5 72,-1079.5\" stroke=\"#000000\"/>\n<text fill=\"#000000\" font-family=\"Times,serif\" font-size=\"14.00\" text-anchor=\"middle\" x=\"137\" y=\"-1098.8\">reshape_2: Reshape</text>\n<polyline fill=\"none\" points=\"202,-1079.5 202,-1125.5 \" stroke=\"#000000\"/>\n<text fill=\"#000000\" font-family=\"Times,serif\" font-size=\"14.00\" text-anchor=\"middle\" x=\"231\" y=\"-1110.3\">input:</text>\n<polyline fill=\"none\" points=\"202,-1102.5 260,-1102.5 \" stroke=\"#000000\"/>\n<text fill=\"#000000\" font-family=\"Times,serif\" font-size=\"14.00\" text-anchor=\"middle\" x=\"231\" y=\"-1087.3\">output:</text>\n<polyline fill=\"none\" points=\"260,-1079.5 260,-1125.5 \" stroke=\"#000000\"/>\n<text fill=\"#000000\" font-family=\"Times,serif\" font-size=\"14.00\" text-anchor=\"middle\" x=\"311\" y=\"-1110.3\">(None, 25)</text>\n<polyline fill=\"none\" points=\"260,-1102.5 362,-1102.5 \" stroke=\"#000000\"/>\n<text fill=\"#000000\" font-family=\"Times,serif\" font-size=\"14.00\" text-anchor=\"middle\" x=\"311\" y=\"-1087.3\">(None, 5, 5, 1)</text>\n</g>\n<!-- 140210013301896&#45;&gt;140210012896896 -->\n<g class=\"edge\" id=\"edge11\">\n<title>140210013301896-&gt;140210012896896</title>\n<path d=\"M217,-1162.3799C217,-1154.1745 217,-1144.7679 217,-1135.8786\" fill=\"none\" stroke=\"#000000\"/>\n<polygon fill=\"#000000\" points=\"220.5001,-1135.784 217,-1125.784 213.5001,-1135.784 220.5001,-1135.784\" stroke=\"#000000\"/>\n</g>\n<!-- 140210012896784 -->\n<g class=\"node\" id=\"node13\">\n<title>140210012896784</title>\n<polygon fill=\"none\" points=\"19,-996.5 19,-1042.5 415,-1042.5 415,-996.5 19,-996.5\" stroke=\"#000000\"/>\n<text fill=\"#000000\" font-family=\"Times,serif\" font-size=\"14.00\" text-anchor=\"middle\" x=\"129.5\" y=\"-1015.8\">up_sampling2d_6: UpSampling2D</text>\n<polyline fill=\"none\" points=\"240,-996.5 240,-1042.5 \" stroke=\"#000000\"/>\n<text fill=\"#000000\" font-family=\"Times,serif\" font-size=\"14.00\" text-anchor=\"middle\" x=\"269\" y=\"-1027.3\">input:</text>\n<polyline fill=\"none\" points=\"240,-1019.5 298,-1019.5 \" stroke=\"#000000\"/>\n<text fill=\"#000000\" font-family=\"Times,serif\" font-size=\"14.00\" text-anchor=\"middle\" x=\"269\" y=\"-1004.3\">output:</text>\n<polyline fill=\"none\" points=\"298,-996.5 298,-1042.5 \" stroke=\"#000000\"/>\n<text fill=\"#000000\" font-family=\"Times,serif\" font-size=\"14.00\" text-anchor=\"middle\" x=\"356.5\" y=\"-1027.3\">(None, 5, 5, 1)</text>\n<polyline fill=\"none\" points=\"298,-1019.5 415,-1019.5 \" stroke=\"#000000\"/>\n<text fill=\"#000000\" font-family=\"Times,serif\" font-size=\"14.00\" text-anchor=\"middle\" x=\"356.5\" y=\"-1004.3\">(None, 10, 10, 1)</text>\n</g>\n<!-- 140210012896896&#45;&gt;140210012896784 -->\n<g class=\"edge\" id=\"edge12\">\n<title>140210012896896-&gt;140210012896784</title>\n<path d=\"M217,-1079.3799C217,-1071.1745 217,-1061.7679 217,-1052.8786\" fill=\"none\" stroke=\"#000000\"/>\n<polygon fill=\"#000000\" points=\"220.5001,-1052.784 217,-1042.784 213.5001,-1052.784 220.5001,-1052.784\" stroke=\"#000000\"/>\n</g>\n<!-- 140210012977136 -->\n<g class=\"node\" id=\"node14\">\n<title>140210012977136</title>\n<polygon fill=\"none\" points=\"52,-913.5 52,-959.5 382,-959.5 382,-913.5 52,-913.5\" stroke=\"#000000\"/>\n<text fill=\"#000000\" font-family=\"Times,serif\" font-size=\"14.00\" text-anchor=\"middle\" x=\"122\" y=\"-932.8\">conv2d_16: Conv2D</text>\n<polyline fill=\"none\" points=\"192,-913.5 192,-959.5 \" stroke=\"#000000\"/>\n<text fill=\"#000000\" font-family=\"Times,serif\" font-size=\"14.00\" text-anchor=\"middle\" x=\"221\" y=\"-944.3\">input:</text>\n<polyline fill=\"none\" points=\"192,-936.5 250,-936.5 \" stroke=\"#000000\"/>\n<text fill=\"#000000\" font-family=\"Times,serif\" font-size=\"14.00\" text-anchor=\"middle\" x=\"221\" y=\"-921.3\">output:</text>\n<polyline fill=\"none\" points=\"250,-913.5 250,-959.5 \" stroke=\"#000000\"/>\n<text fill=\"#000000\" font-family=\"Times,serif\" font-size=\"14.00\" text-anchor=\"middle\" x=\"316\" y=\"-944.3\">(None, 10, 10, 1)</text>\n<polyline fill=\"none\" points=\"250,-936.5 382,-936.5 \" stroke=\"#000000\"/>\n<text fill=\"#000000\" font-family=\"Times,serif\" font-size=\"14.00\" text-anchor=\"middle\" x=\"316\" y=\"-921.3\">(None, 10, 10, 128)</text>\n</g>\n<!-- 140210012896784&#45;&gt;140210012977136 -->\n<g class=\"edge\" id=\"edge13\">\n<title>140210012896784-&gt;140210012977136</title>\n<path d=\"M217,-996.3799C217,-988.1745 217,-978.7679 217,-969.8786\" fill=\"none\" stroke=\"#000000\"/>\n<polygon fill=\"#000000\" points=\"220.5001,-969.784 217,-959.784 213.5001,-969.784 220.5001,-969.784\" stroke=\"#000000\"/>\n</g>\n<!-- 140210012977528 -->\n<g class=\"node\" id=\"node15\">\n<title>140210012977528</title>\n<polygon fill=\"none\" points=\"11.5,-830.5 11.5,-876.5 422.5,-876.5 422.5,-830.5 11.5,-830.5\" stroke=\"#000000\"/>\n<text fill=\"#000000\" font-family=\"Times,serif\" font-size=\"14.00\" text-anchor=\"middle\" x=\"122\" y=\"-849.8\">up_sampling2d_7: UpSampling2D</text>\n<polyline fill=\"none\" points=\"232.5,-830.5 232.5,-876.5 \" stroke=\"#000000\"/>\n<text fill=\"#000000\" font-family=\"Times,serif\" font-size=\"14.00\" text-anchor=\"middle\" x=\"261.5\" y=\"-861.3\">input:</text>\n<polyline fill=\"none\" points=\"232.5,-853.5 290.5,-853.5 \" stroke=\"#000000\"/>\n<text fill=\"#000000\" font-family=\"Times,serif\" font-size=\"14.00\" text-anchor=\"middle\" x=\"261.5\" y=\"-838.3\">output:</text>\n<polyline fill=\"none\" points=\"290.5,-830.5 290.5,-876.5 \" stroke=\"#000000\"/>\n<text fill=\"#000000\" font-family=\"Times,serif\" font-size=\"14.00\" text-anchor=\"middle\" x=\"356.5\" y=\"-861.3\">(None, 10, 10, 128)</text>\n<polyline fill=\"none\" points=\"290.5,-853.5 422.5,-853.5 \" stroke=\"#000000\"/>\n<text fill=\"#000000\" font-family=\"Times,serif\" font-size=\"14.00\" text-anchor=\"middle\" x=\"356.5\" y=\"-838.3\">(None, 20, 20, 128)</text>\n</g>\n<!-- 140210012977136&#45;&gt;140210012977528 -->\n<g class=\"edge\" id=\"edge14\">\n<title>140210012977136-&gt;140210012977528</title>\n<path d=\"M217,-913.3799C217,-905.1745 217,-895.7679 217,-886.8786\" fill=\"none\" stroke=\"#000000\"/>\n<polygon fill=\"#000000\" points=\"220.5001,-886.784 217,-876.784 213.5001,-886.784 220.5001,-886.784\" stroke=\"#000000\"/>\n</g>\n<!-- 140210012977696 -->\n<g class=\"node\" id=\"node16\">\n<title>140210012977696</title>\n<polygon fill=\"none\" points=\"52,-747.5 52,-793.5 382,-793.5 382,-747.5 52,-747.5\" stroke=\"#000000\"/>\n<text fill=\"#000000\" font-family=\"Times,serif\" font-size=\"14.00\" text-anchor=\"middle\" x=\"122\" y=\"-766.8\">conv2d_17: Conv2D</text>\n<polyline fill=\"none\" points=\"192,-747.5 192,-793.5 \" stroke=\"#000000\"/>\n<text fill=\"#000000\" font-family=\"Times,serif\" font-size=\"14.00\" text-anchor=\"middle\" x=\"221\" y=\"-778.3\">input:</text>\n<polyline fill=\"none\" points=\"192,-770.5 250,-770.5 \" stroke=\"#000000\"/>\n<text fill=\"#000000\" font-family=\"Times,serif\" font-size=\"14.00\" text-anchor=\"middle\" x=\"221\" y=\"-755.3\">output:</text>\n<polyline fill=\"none\" points=\"250,-747.5 250,-793.5 \" stroke=\"#000000\"/>\n<text fill=\"#000000\" font-family=\"Times,serif\" font-size=\"14.00\" text-anchor=\"middle\" x=\"316\" y=\"-778.3\">(None, 20, 20, 128)</text>\n<polyline fill=\"none\" points=\"250,-770.5 382,-770.5 \" stroke=\"#000000\"/>\n<text fill=\"#000000\" font-family=\"Times,serif\" font-size=\"14.00\" text-anchor=\"middle\" x=\"316\" y=\"-755.3\">(None, 20, 20, 64)</text>\n</g>\n<!-- 140210012977528&#45;&gt;140210012977696 -->\n<g class=\"edge\" id=\"edge15\">\n<title>140210012977528-&gt;140210012977696</title>\n<path d=\"M217,-830.3799C217,-822.1745 217,-812.7679 217,-803.8786\" fill=\"none\" stroke=\"#000000\"/>\n<polygon fill=\"#000000\" points=\"220.5001,-803.784 217,-793.784 213.5001,-803.784 220.5001,-803.784\" stroke=\"#000000\"/>\n</g>\n<!-- 140209676936304 -->\n<g class=\"node\" id=\"node17\">\n<title>140209676936304</title>\n<polygon fill=\"none\" points=\"15,-664.5 15,-710.5 419,-710.5 419,-664.5 15,-664.5\" stroke=\"#000000\"/>\n<text fill=\"#000000\" font-family=\"Times,serif\" font-size=\"14.00\" text-anchor=\"middle\" x=\"125.5\" y=\"-683.8\">up_sampling2d_8: UpSampling2D</text>\n<polyline fill=\"none\" points=\"236,-664.5 236,-710.5 \" stroke=\"#000000\"/>\n<text fill=\"#000000\" font-family=\"Times,serif\" font-size=\"14.00\" text-anchor=\"middle\" x=\"265\" y=\"-695.3\">input:</text>\n<polyline fill=\"none\" points=\"236,-687.5 294,-687.5 \" stroke=\"#000000\"/>\n<text fill=\"#000000\" font-family=\"Times,serif\" font-size=\"14.00\" text-anchor=\"middle\" x=\"265\" y=\"-672.3\">output:</text>\n<polyline fill=\"none\" points=\"294,-664.5 294,-710.5 \" stroke=\"#000000\"/>\n<text fill=\"#000000\" font-family=\"Times,serif\" font-size=\"14.00\" text-anchor=\"middle\" x=\"356.5\" y=\"-695.3\">(None, 20, 20, 64)</text>\n<polyline fill=\"none\" points=\"294,-687.5 419,-687.5 \" stroke=\"#000000\"/>\n<text fill=\"#000000\" font-family=\"Times,serif\" font-size=\"14.00\" text-anchor=\"middle\" x=\"356.5\" y=\"-672.3\">(None, 40, 40, 64)</text>\n</g>\n<!-- 140210012977696&#45;&gt;140209676936304 -->\n<g class=\"edge\" id=\"edge16\">\n<title>140210012977696-&gt;140209676936304</title>\n<path d=\"M217,-747.3799C217,-739.1745 217,-729.7679 217,-720.8786\" fill=\"none\" stroke=\"#000000\"/>\n<polygon fill=\"#000000\" points=\"220.5001,-720.784 217,-710.784 213.5001,-720.784 220.5001,-720.784\" stroke=\"#000000\"/>\n</g>\n<!-- 140209677076912 -->\n<g class=\"node\" id=\"node18\">\n<title>140209677076912</title>\n<polygon fill=\"none\" points=\"55.5,-581.5 55.5,-627.5 378.5,-627.5 378.5,-581.5 55.5,-581.5\" stroke=\"#000000\"/>\n<text fill=\"#000000\" font-family=\"Times,serif\" font-size=\"14.00\" text-anchor=\"middle\" x=\"125.5\" y=\"-600.8\">conv2d_18: Conv2D</text>\n<polyline fill=\"none\" points=\"195.5,-581.5 195.5,-627.5 \" stroke=\"#000000\"/>\n<text fill=\"#000000\" font-family=\"Times,serif\" font-size=\"14.00\" text-anchor=\"middle\" x=\"224.5\" y=\"-612.3\">input:</text>\n<polyline fill=\"none\" points=\"195.5,-604.5 253.5,-604.5 \" stroke=\"#000000\"/>\n<text fill=\"#000000\" font-family=\"Times,serif\" font-size=\"14.00\" text-anchor=\"middle\" x=\"224.5\" y=\"-589.3\">output:</text>\n<polyline fill=\"none\" points=\"253.5,-581.5 253.5,-627.5 \" stroke=\"#000000\"/>\n<text fill=\"#000000\" font-family=\"Times,serif\" font-size=\"14.00\" text-anchor=\"middle\" x=\"316\" y=\"-612.3\">(None, 40, 40, 64)</text>\n<polyline fill=\"none\" points=\"253.5,-604.5 378.5,-604.5 \" stroke=\"#000000\"/>\n<text fill=\"#000000\" font-family=\"Times,serif\" font-size=\"14.00\" text-anchor=\"middle\" x=\"316\" y=\"-589.3\">(None, 40, 40, 64)</text>\n</g>\n<!-- 140209676936304&#45;&gt;140209677076912 -->\n<g class=\"edge\" id=\"edge17\">\n<title>140209676936304-&gt;140209677076912</title>\n<path d=\"M217,-664.3799C217,-656.1745 217,-646.7679 217,-637.8786\" fill=\"none\" stroke=\"#000000\"/>\n<polygon fill=\"#000000\" points=\"220.5001,-637.784 217,-627.784 213.5001,-637.784 220.5001,-637.784\" stroke=\"#000000\"/>\n</g>\n<!-- 140209676650032 -->\n<g class=\"node\" id=\"node19\">\n<title>140209676650032</title>\n<polygon fill=\"none\" points=\"15,-498.5 15,-544.5 419,-544.5 419,-498.5 15,-498.5\" stroke=\"#000000\"/>\n<text fill=\"#000000\" font-family=\"Times,serif\" font-size=\"14.00\" text-anchor=\"middle\" x=\"125.5\" y=\"-517.8\">up_sampling2d_9: UpSampling2D</text>\n<polyline fill=\"none\" points=\"236,-498.5 236,-544.5 \" stroke=\"#000000\"/>\n<text fill=\"#000000\" font-family=\"Times,serif\" font-size=\"14.00\" text-anchor=\"middle\" x=\"265\" y=\"-529.3\">input:</text>\n<polyline fill=\"none\" points=\"236,-521.5 294,-521.5 \" stroke=\"#000000\"/>\n<text fill=\"#000000\" font-family=\"Times,serif\" font-size=\"14.00\" text-anchor=\"middle\" x=\"265\" y=\"-506.3\">output:</text>\n<polyline fill=\"none\" points=\"294,-498.5 294,-544.5 \" stroke=\"#000000\"/>\n<text fill=\"#000000\" font-family=\"Times,serif\" font-size=\"14.00\" text-anchor=\"middle\" x=\"356.5\" y=\"-529.3\">(None, 40, 40, 64)</text>\n<polyline fill=\"none\" points=\"294,-521.5 419,-521.5 \" stroke=\"#000000\"/>\n<text fill=\"#000000\" font-family=\"Times,serif\" font-size=\"14.00\" text-anchor=\"middle\" x=\"356.5\" y=\"-506.3\">(None, 80, 80, 64)</text>\n</g>\n<!-- 140209677076912&#45;&gt;140209676650032 -->\n<g class=\"edge\" id=\"edge18\">\n<title>140209677076912-&gt;140209676650032</title>\n<path d=\"M217,-581.3799C217,-573.1745 217,-563.7679 217,-554.8786\" fill=\"none\" stroke=\"#000000\"/>\n<polygon fill=\"#000000\" points=\"220.5001,-554.784 217,-544.784 213.5001,-554.784 220.5001,-554.784\" stroke=\"#000000\"/>\n</g>\n<!-- 140209676760064 -->\n<g class=\"node\" id=\"node20\">\n<title>140209676760064</title>\n<polygon fill=\"none\" points=\"55.5,-415.5 55.5,-461.5 378.5,-461.5 378.5,-415.5 55.5,-415.5\" stroke=\"#000000\"/>\n<text fill=\"#000000\" font-family=\"Times,serif\" font-size=\"14.00\" text-anchor=\"middle\" x=\"125.5\" y=\"-434.8\">conv2d_19: Conv2D</text>\n<polyline fill=\"none\" points=\"195.5,-415.5 195.5,-461.5 \" stroke=\"#000000\"/>\n<text fill=\"#000000\" font-family=\"Times,serif\" font-size=\"14.00\" text-anchor=\"middle\" x=\"224.5\" y=\"-446.3\">input:</text>\n<polyline fill=\"none\" points=\"195.5,-438.5 253.5,-438.5 \" stroke=\"#000000\"/>\n<text fill=\"#000000\" font-family=\"Times,serif\" font-size=\"14.00\" text-anchor=\"middle\" x=\"224.5\" y=\"-423.3\">output:</text>\n<polyline fill=\"none\" points=\"253.5,-415.5 253.5,-461.5 \" stroke=\"#000000\"/>\n<text fill=\"#000000\" font-family=\"Times,serif\" font-size=\"14.00\" text-anchor=\"middle\" x=\"316\" y=\"-446.3\">(None, 80, 80, 64)</text>\n<polyline fill=\"none\" points=\"253.5,-438.5 378.5,-438.5 \" stroke=\"#000000\"/>\n<text fill=\"#000000\" font-family=\"Times,serif\" font-size=\"14.00\" text-anchor=\"middle\" x=\"316\" y=\"-423.3\">(None, 80, 80, 64)</text>\n</g>\n<!-- 140209676650032&#45;&gt;140209676760064 -->\n<g class=\"edge\" id=\"edge19\">\n<title>140209676650032-&gt;140209676760064</title>\n<path d=\"M217,-498.3799C217,-490.1745 217,-480.7679 217,-471.8786\" fill=\"none\" stroke=\"#000000\"/>\n<polygon fill=\"#000000\" points=\"220.5001,-471.784 217,-461.784 213.5001,-471.784 220.5001,-471.784\" stroke=\"#000000\"/>\n</g>\n<!-- 140209676345808 -->\n<g class=\"node\" id=\"node21\">\n<title>140209676345808</title>\n<polygon fill=\"none\" points=\"4,-332.5 4,-378.5 430,-378.5 430,-332.5 4,-332.5\" stroke=\"#000000\"/>\n<text fill=\"#000000\" font-family=\"Times,serif\" font-size=\"14.00\" text-anchor=\"middle\" x=\"118\" y=\"-351.8\">up_sampling2d_10: UpSampling2D</text>\n<polyline fill=\"none\" points=\"232,-332.5 232,-378.5 \" stroke=\"#000000\"/>\n<text fill=\"#000000\" font-family=\"Times,serif\" font-size=\"14.00\" text-anchor=\"middle\" x=\"261\" y=\"-363.3\">input:</text>\n<polyline fill=\"none\" points=\"232,-355.5 290,-355.5 \" stroke=\"#000000\"/>\n<text fill=\"#000000\" font-family=\"Times,serif\" font-size=\"14.00\" text-anchor=\"middle\" x=\"261\" y=\"-340.3\">output:</text>\n<polyline fill=\"none\" points=\"290,-332.5 290,-378.5 \" stroke=\"#000000\"/>\n<text fill=\"#000000\" font-family=\"Times,serif\" font-size=\"14.00\" text-anchor=\"middle\" x=\"360\" y=\"-363.3\">(None, 80, 80, 64)</text>\n<polyline fill=\"none\" points=\"290,-355.5 430,-355.5 \" stroke=\"#000000\"/>\n<text fill=\"#000000\" font-family=\"Times,serif\" font-size=\"14.00\" text-anchor=\"middle\" x=\"360\" y=\"-340.3\">(None, 400, 400, 64)</text>\n</g>\n<!-- 140209676760064&#45;&gt;140209676345808 -->\n<g class=\"edge\" id=\"edge20\">\n<title>140209676760064-&gt;140209676345808</title>\n<path d=\"M217,-415.3799C217,-407.1745 217,-397.7679 217,-388.8786\" fill=\"none\" stroke=\"#000000\"/>\n<polygon fill=\"#000000\" points=\"220.5001,-388.784 217,-378.784 213.5001,-388.784 220.5001,-388.784\" stroke=\"#000000\"/>\n</g>\n<!-- 140209676345696 -->\n<g class=\"node\" id=\"node22\">\n<title>140209676345696</title>\n<polygon fill=\"none\" points=\"48,-249.5 48,-295.5 386,-295.5 386,-249.5 48,-249.5\" stroke=\"#000000\"/>\n<text fill=\"#000000\" font-family=\"Times,serif\" font-size=\"14.00\" text-anchor=\"middle\" x=\"118\" y=\"-268.8\">conv2d_20: Conv2D</text>\n<polyline fill=\"none\" points=\"188,-249.5 188,-295.5 \" stroke=\"#000000\"/>\n<text fill=\"#000000\" font-family=\"Times,serif\" font-size=\"14.00\" text-anchor=\"middle\" x=\"217\" y=\"-280.3\">input:</text>\n<polyline fill=\"none\" points=\"188,-272.5 246,-272.5 \" stroke=\"#000000\"/>\n<text fill=\"#000000\" font-family=\"Times,serif\" font-size=\"14.00\" text-anchor=\"middle\" x=\"217\" y=\"-257.3\">output:</text>\n<polyline fill=\"none\" points=\"246,-249.5 246,-295.5 \" stroke=\"#000000\"/>\n<text fill=\"#000000\" font-family=\"Times,serif\" font-size=\"14.00\" text-anchor=\"middle\" x=\"316\" y=\"-280.3\">(None, 400, 400, 64)</text>\n<polyline fill=\"none\" points=\"246,-272.5 386,-272.5 \" stroke=\"#000000\"/>\n<text fill=\"#000000\" font-family=\"Times,serif\" font-size=\"14.00\" text-anchor=\"middle\" x=\"316\" y=\"-257.3\">(None, 400, 400, 64)</text>\n</g>\n<!-- 140209676345808&#45;&gt;140209676345696 -->\n<g class=\"edge\" id=\"edge21\">\n<title>140209676345808-&gt;140209676345696</title>\n<path d=\"M217,-332.3799C217,-324.1745 217,-314.7679 217,-305.8786\" fill=\"none\" stroke=\"#000000\"/>\n<polygon fill=\"#000000\" points=\"220.5001,-305.784 217,-295.784 213.5001,-305.784 220.5001,-305.784\" stroke=\"#000000\"/>\n</g>\n<!-- 140209676460104 -->\n<g class=\"node\" id=\"node23\">\n<title>140209676460104</title>\n<polygon fill=\"none\" points=\"44.5,-166.5 44.5,-212.5 389.5,-212.5 389.5,-166.5 44.5,-166.5\" stroke=\"#000000\"/>\n<text fill=\"#000000\" font-family=\"Times,serif\" font-size=\"14.00\" text-anchor=\"middle\" x=\"114.5\" y=\"-185.8\">conv2d_21: Conv2D</text>\n<polyline fill=\"none\" points=\"184.5,-166.5 184.5,-212.5 \" stroke=\"#000000\"/>\n<text fill=\"#000000\" font-family=\"Times,serif\" font-size=\"14.00\" text-anchor=\"middle\" x=\"213.5\" y=\"-197.3\">input:</text>\n<polyline fill=\"none\" points=\"184.5,-189.5 242.5,-189.5 \" stroke=\"#000000\"/>\n<text fill=\"#000000\" font-family=\"Times,serif\" font-size=\"14.00\" text-anchor=\"middle\" x=\"213.5\" y=\"-174.3\">output:</text>\n<polyline fill=\"none\" points=\"242.5,-166.5 242.5,-212.5 \" stroke=\"#000000\"/>\n<text fill=\"#000000\" font-family=\"Times,serif\" font-size=\"14.00\" text-anchor=\"middle\" x=\"316\" y=\"-197.3\">(None, 400, 400, 64)</text>\n<polyline fill=\"none\" points=\"242.5,-189.5 389.5,-189.5 \" stroke=\"#000000\"/>\n<text fill=\"#000000\" font-family=\"Times,serif\" font-size=\"14.00\" text-anchor=\"middle\" x=\"316\" y=\"-174.3\">(None, 400, 400, 128)</text>\n</g>\n<!-- 140209676345696&#45;&gt;140209676460104 -->\n<g class=\"edge\" id=\"edge22\">\n<title>140209676345696-&gt;140209676460104</title>\n<path d=\"M217,-249.3799C217,-241.1745 217,-231.7679 217,-222.8786\" fill=\"none\" stroke=\"#000000\"/>\n<polygon fill=\"#000000\" points=\"220.5001,-222.784 217,-212.784 213.5001,-222.784 220.5001,-222.784\" stroke=\"#000000\"/>\n</g>\n<!-- 140209676462960 -->\n<g class=\"node\" id=\"node24\">\n<title>140209676462960</title>\n<polygon fill=\"none\" points=\"0,-83.5 0,-129.5 434,-129.5 434,-83.5 0,-83.5\" stroke=\"#000000\"/>\n<text fill=\"#000000\" font-family=\"Times,serif\" font-size=\"14.00\" text-anchor=\"middle\" x=\"114.5\" y=\"-102.8\">max_pooling2d_10: MaxPooling2D</text>\n<polyline fill=\"none\" points=\"229,-83.5 229,-129.5 \" stroke=\"#000000\"/>\n<text fill=\"#000000\" font-family=\"Times,serif\" font-size=\"14.00\" text-anchor=\"middle\" x=\"258\" y=\"-114.3\">input:</text>\n<polyline fill=\"none\" points=\"229,-106.5 287,-106.5 \" stroke=\"#000000\"/>\n<text fill=\"#000000\" font-family=\"Times,serif\" font-size=\"14.00\" text-anchor=\"middle\" x=\"258\" y=\"-91.3\">output:</text>\n<polyline fill=\"none\" points=\"287,-83.5 287,-129.5 \" stroke=\"#000000\"/>\n<text fill=\"#000000\" font-family=\"Times,serif\" font-size=\"14.00\" text-anchor=\"middle\" x=\"360.5\" y=\"-114.3\">(None, 400, 400, 128)</text>\n<polyline fill=\"none\" points=\"287,-106.5 434,-106.5 \" stroke=\"#000000\"/>\n<text fill=\"#000000\" font-family=\"Times,serif\" font-size=\"14.00\" text-anchor=\"middle\" x=\"360.5\" y=\"-91.3\">(None, 100, 100, 128)</text>\n</g>\n<!-- 140209676460104&#45;&gt;140209676462960 -->\n<g class=\"edge\" id=\"edge23\">\n<title>140209676460104-&gt;140209676462960</title>\n<path d=\"M217,-166.3799C217,-158.1745 217,-148.7679 217,-139.8786\" fill=\"none\" stroke=\"#000000\"/>\n<polygon fill=\"#000000\" points=\"220.5001,-139.784 217,-129.784 213.5001,-139.784 220.5001,-139.784\" stroke=\"#000000\"/>\n</g>\n<!-- 140209676273256 -->\n<g class=\"node\" id=\"node25\">\n<title>140209676273256</title>\n<polygon fill=\"none\" points=\"44.5,-.5 44.5,-46.5 389.5,-46.5 389.5,-.5 44.5,-.5\" stroke=\"#000000\"/>\n<text fill=\"#000000\" font-family=\"Times,serif\" font-size=\"14.00\" text-anchor=\"middle\" x=\"114.5\" y=\"-19.8\">conv2d_22: Conv2D</text>\n<polyline fill=\"none\" points=\"184.5,-.5 184.5,-46.5 \" stroke=\"#000000\"/>\n<text fill=\"#000000\" font-family=\"Times,serif\" font-size=\"14.00\" text-anchor=\"middle\" x=\"213.5\" y=\"-31.3\">input:</text>\n<polyline fill=\"none\" points=\"184.5,-23.5 242.5,-23.5 \" stroke=\"#000000\"/>\n<text fill=\"#000000\" font-family=\"Times,serif\" font-size=\"14.00\" text-anchor=\"middle\" x=\"213.5\" y=\"-8.3\">output:</text>\n<polyline fill=\"none\" points=\"242.5,-.5 242.5,-46.5 \" stroke=\"#000000\"/>\n<text fill=\"#000000\" font-family=\"Times,serif\" font-size=\"14.00\" text-anchor=\"middle\" x=\"316\" y=\"-31.3\">(None, 100, 100, 128)</text>\n<polyline fill=\"none\" points=\"242.5,-23.5 389.5,-23.5 \" stroke=\"#000000\"/>\n<text fill=\"#000000\" font-family=\"Times,serif\" font-size=\"14.00\" text-anchor=\"middle\" x=\"316\" y=\"-8.3\">(None, 100, 100, 1)</text>\n</g>\n<!-- 140209676462960&#45;&gt;140209676273256 -->\n<g class=\"edge\" id=\"edge24\">\n<title>140209676462960-&gt;140209676273256</title>\n<path d=\"M217,-83.3799C217,-75.1745 217,-65.7679 217,-56.8786\" fill=\"none\" stroke=\"#000000\"/>\n<polygon fill=\"#000000\" points=\"220.5001,-56.784 217,-46.784 213.5001,-56.784 220.5001,-56.784\" stroke=\"#000000\"/>\n</g>\n</g>\n</svg>"
          },
          "metadata": {
            "tags": []
          },
          "execution_count": 15
        }
      ]
    },
    {
      "metadata": {
        "id": "3XuoKnUbXaRU",
        "colab_type": "code",
        "outputId": "95532ca7-bd7e-411d-f2f3-c5aa2376324c",
        "colab": {
          "base_uri": "https://localhost:8080/",
          "height": 252
        }
      },
      "cell_type": "code",
      "source": [
        "!pip3 install pydotplus\n",
        "!pip3 install pydot\n",
        "!apt-get -qq install -y graphviz && pip3 install -q pydot\n",
        "!pip3 install pydot-ng\n",
        "!pip3 install graphviz\n",
        "!apt-get install python-pydot python-pydot-ng graphviz \n",
        "import pydot"
      ],
      "execution_count": 0,
      "outputs": [
        {
          "output_type": "stream",
          "text": [
            "Requirement already satisfied: pydotplus in /usr/local/lib/python3.6/dist-packages (2.0.2)\n",
            "Requirement already satisfied: pyparsing>=2.0.1 in /usr/local/lib/python3.6/dist-packages (from pydotplus) (2.2.2)\n",
            "Requirement already satisfied: pydot in /usr/local/lib/python3.6/dist-packages (1.2.4)\n",
            "Requirement already satisfied: pyparsing>=2.1.4 in /usr/local/lib/python3.6/dist-packages (from pydot) (2.2.2)\n",
            "Requirement already satisfied: pydot-ng in /usr/local/lib/python3.6/dist-packages (1.0.0)\n",
            "Requirement already satisfied: pyparsing>=2.0.1 in /usr/local/lib/python3.6/dist-packages (from pydot-ng) (2.2.2)\n",
            "Requirement already satisfied: graphviz in /usr/local/lib/python3.6/dist-packages (0.9)\n",
            "Reading package lists... Done\n",
            "Building dependency tree       \n",
            "Reading state information... Done\n",
            "graphviz is already the newest version (2.40.1-2).\n",
            "python-pydot is already the newest version (1.2.3-1).\n",
            "python-pydot-ng is already the newest version (1.0.0-3).\n",
            "0 upgraded, 0 newly installed, 0 to remove and 4 not upgraded.\n"
          ],
          "name": "stdout"
        }
      ]
    },
    {
      "metadata": {
        "id": "O5Tl7-i-ZHnE",
        "colab_type": "code",
        "outputId": "2341fa51-ac52-403d-c891-3496556b8315",
        "colab": {
          "base_uri": "https://localhost:8080/",
          "height": 34
        }
      },
      "cell_type": "code",
      "source": [
        "model"
      ],
      "execution_count": 0,
      "outputs": [
        {
          "output_type": "execute_result",
          "data": {
            "text/plain": [
              "<keras.engine.training.Model at 0x7f851bf2c7f0>"
            ]
          },
          "metadata": {
            "tags": []
          },
          "execution_count": 17
        }
      ]
    },
    {
      "metadata": {
        "id": "_pKVJj8KodF7",
        "colab_type": "code",
        "colab": {}
      },
      "cell_type": "code",
      "source": [
        ""
      ],
      "execution_count": 0,
      "outputs": []
    }
  ]
}